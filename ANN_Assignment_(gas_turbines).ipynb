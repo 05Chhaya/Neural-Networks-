{
  "cells": [
    {
      "cell_type": "markdown",
      "metadata": {
        "id": "qr45SOCfGs2W"
      },
      "source": [
        "# **Gas-turbines**"
      ]
    },
    {
      "cell_type": "code",
      "execution_count": null,
      "metadata": {
        "id": "RmZrtBTLBdln"
      },
      "outputs": [],
      "source": [
        "import pandas as pd\n",
        "import numpy as np\n",
        "import keras\n",
        "from sklearn.preprocessing import StandardScaler\n",
        "import seaborn as sns\n",
        "import matplotlib.pyplot as plt\n",
        "from keras.models import Sequential\n",
        "from keras.layers import Dense\n",
        "from sklearn.model_selection import train_test_split\n",
        "from imblearn.over_sampling import SMOTE\n",
        "from sklearn.metrics import r2_score\n"
      ]
    },
    {
      "cell_type": "code",
      "execution_count": null,
      "metadata": {
        "id": "3onqxZ90B6hB"
      },
      "outputs": [],
      "source": [
        "df = pd.read_csv('/content/gas_turbines.csv')\n",
        "df.head()"
      ]
    },
    {
      "cell_type": "markdown",
      "metadata": {
        "id": "H6UemjToCwOK"
      },
      "source": [
        "# **Exploratory Data Analysis**"
      ]
    },
    {
      "cell_type": "code",
      "execution_count": null,
      "metadata": {
        "id": "zvkG-9uJCbcX"
      },
      "outputs": [],
      "source": [
        "df.describe()"
      ]
    },
    {
      "cell_type": "code",
      "execution_count": null,
      "metadata": {
        "id": "aVxWcnGJDdxn"
      },
      "outputs": [],
      "source": [
        "df.info()"
      ]
    },
    {
      "cell_type": "code",
      "execution_count": null,
      "metadata": {
        "id": "RQqXKWWKDgSD"
      },
      "outputs": [],
      "source": [
        "df.size"
      ]
    },
    {
      "cell_type": "code",
      "execution_count": null,
      "metadata": {
        "id": "m7VtsTJ0DiFt"
      },
      "outputs": [],
      "source": [
        "df.shape"
      ]
    },
    {
      "cell_type": "code",
      "execution_count": null,
      "metadata": {
        "id": "QTEm7b94DkmH"
      },
      "outputs": [],
      "source": [
        "df.isnull().sum()"
      ]
    },
    {
      "cell_type": "code",
      "execution_count": null,
      "metadata": {
        "id": "iLS_sQtlDmTm"
      },
      "outputs": [],
      "source": [
        "df.columns"
      ]
    },
    {
      "cell_type": "code",
      "execution_count": null,
      "metadata": {
        "id": "vT8kRDEEDoTq"
      },
      "outputs": [],
      "source": [
        "df.dtypes"
      ]
    },
    {
      "cell_type": "code",
      "execution_count": null,
      "metadata": {
        "id": "finJ-dOyDpTT"
      },
      "outputs": [],
      "source": [
        "# Loop for getting Categorical data\n",
        "for column in df.columns:\n",
        "  if df[column].dtype == 'object':\n",
        "    print(column)"
      ]
    },
    {
      "cell_type": "code",
      "execution_count": null,
      "metadata": {
        "id": "wm3BReWPDtPe"
      },
      "outputs": [],
      "source": [
        "# Loop for getting Continuous data\n",
        "for column in df.columns:\n",
        "  if df[column].dtype != 'object':\n",
        "    print(column)"
      ]
    },
    {
      "cell_type": "markdown",
      "metadata": {
        "id": "6RzunWmjD0s0"
      },
      "source": [
        "# **Correlation Matrix**"
      ]
    },
    {
      "cell_type": "code",
      "execution_count": null,
      "metadata": {
        "id": "A0zKVMDVDvjM"
      },
      "outputs": [],
      "source": [
        "df.corr()"
      ]
    },
    {
      "cell_type": "code",
      "execution_count": null,
      "metadata": {
        "id": "vf2PpQbfD4Dn"
      },
      "outputs": [],
      "source": [
        "plt.figure(figsize=(20,10))\n",
        "sns.heatmap(df.corr(),annot = True)\n",
        "plt.show()"
      ]
    },
    {
      "cell_type": "code",
      "execution_count": null,
      "metadata": {
        "id": "gig2EP4MD7V5"
      },
      "outputs": [],
      "source": [
        "Columns=['AT', 'AP', 'AH', 'AFDP', 'GTEP', 'TIT', 'TAT', 'TEY', 'CDP', 'CO','NOX']"
      ]
    },
    {
      "cell_type": "code",
      "execution_count": null,
      "metadata": {
        "id": "Zm9JChugEQNT"
      },
      "outputs": [],
      "source": [
        "for feature in Columns:\n",
        "  sns.displot(data = df, x = feature, height = 7,aspect = 2, color = '#158685')\n",
        "  plt.show()"
      ]
    },
    {
      "cell_type": "markdown",
      "metadata": {
        "id": "RAP2aa-dEd49"
      },
      "source": [
        "# **Box Plot**"
      ]
    },
    {
      "cell_type": "code",
      "execution_count": null,
      "metadata": {
        "id": "6RPf82iKESCc"
      },
      "outputs": [],
      "source": [
        "for col in Columns:\n",
        "    plt.figure()   # plots figure for each iteration\n",
        "    sns.boxplot(df[col])\n",
        "    plt.show()"
      ]
    },
    {
      "cell_type": "markdown",
      "metadata": {
        "id": "dlzc566FErXL"
      },
      "source": [
        "# **Dist Plot**"
      ]
    },
    {
      "cell_type": "code",
      "execution_count": null,
      "metadata": {
        "id": "SLV7smNoEgf-"
      },
      "outputs": [],
      "source": [
        "for cols in Columns:\n",
        "  plt.figure()\n",
        "  sns.distplot(df[col])\n",
        "  plt.show()"
      ]
    },
    {
      "cell_type": "markdown",
      "metadata": {
        "id": "2zCTjt59EwMj"
      },
      "source": [
        "# **Violin Plot**"
      ]
    },
    {
      "cell_type": "code",
      "execution_count": null,
      "metadata": {
        "id": "CBwk55h6EubG"
      },
      "outputs": [],
      "source": [
        "for col in Columns:\n",
        "  plt.figure()\n",
        "  sns.violinplot(df[col])\n",
        "  plt.show()"
      ]
    },
    {
      "cell_type": "code",
      "execution_count": null,
      "metadata": {
        "id": "8XrYI075RFvJ"
      },
      "outputs": [],
      "source": [
        "df.drop(labels=['AT','AP','AH','NOX'],axis = 1, inplace = True)\n",
        "df.head()"
      ]
    },
    {
      "cell_type": "markdown",
      "metadata": {
        "id": "hIBVh_jWFLnY"
      },
      "source": [
        "# **Defining Independent and Dependent Variable**"
      ]
    },
    {
      "cell_type": "code",
      "execution_count": null,
      "metadata": {
        "id": "fcyQhiWvE2Og"
      },
      "outputs": [],
      "source": [
        "X = df.drop('TEY',axis = 1)\n",
        "Y = df['TEY']"
      ]
    },
    {
      "cell_type": "code",
      "execution_count": null,
      "metadata": {
        "id": "8Hh2JMtGFfvs"
      },
      "outputs": [],
      "source": [
        "X.head()"
      ]
    },
    {
      "cell_type": "code",
      "execution_count": null,
      "metadata": {
        "id": "Yt1Oraa9FnMh"
      },
      "outputs": [],
      "source": [
        "Y.head()"
      ]
    },
    {
      "cell_type": "markdown",
      "metadata": {
        "id": "jGy-sm38Fzhx"
      },
      "source": [
        "# **Scaling the data**"
      ]
    },
    {
      "cell_type": "code",
      "execution_count": null,
      "metadata": {
        "id": "Uuwtv1lPFwpk"
      },
      "outputs": [],
      "source": [
        "# Standardization\n",
        "a = StandardScaler()\n",
        "a.fit(X)\n",
        "X_standardized = a.transform(X)"
      ]
    },
    {
      "cell_type": "code",
      "execution_count": null,
      "metadata": {
        "id": "mA_3MOwZF55y"
      },
      "outputs": [],
      "source": [
        "X_standardized.shape"
      ]
    },
    {
      "cell_type": "code",
      "execution_count": null,
      "metadata": {
        "id": "opwTO-BrF7rn"
      },
      "outputs": [],
      "source": [
        "pd.DataFrame(X_standardized)"
      ]
    },
    {
      "cell_type": "markdown",
      "metadata": {
        "id": "hXFtGo4GGA16"
      },
      "source": [
        "# **Splitting the data into Training and Testing dataset**"
      ]
    },
    {
      "cell_type": "code",
      "execution_count": null,
      "metadata": {
        "id": "RknL7i1oF9yg"
      },
      "outputs": [],
      "source": [
        "X_train,X_test,Y_train,Y_test = train_test_split(X,Y,test_size=0.3,random_state=42)"
      ]
    },
    {
      "cell_type": "code",
      "execution_count": null,
      "metadata": {
        "id": "tkxWJpTjGDiU"
      },
      "outputs": [],
      "source": [
        "X_train.shape,X_test.shape"
      ]
    },
    {
      "cell_type": "markdown",
      "metadata": {
        "id": "GKMaz1GoGMnM"
      },
      "source": [
        "# **Tuning the Hyperparameters :- Batch size and Epochs**"
      ]
    },
    {
      "cell_type": "code",
      "execution_count": null,
      "metadata": {
        "id": "cUkbvce3GEu8"
      },
      "outputs": [],
      "source": [
        "from sklearn.model_selection import GridSearchCV, KFold\n",
        "from keras.models import Sequential\n",
        "from keras.layers import Dense\n",
        "from keras.wrappers.scikit_learn import KerasClassifier\n",
        "from keras.optimizers import adam_v2"
      ]
    },
    {
      "cell_type": "code",
      "execution_count": null,
      "metadata": {
        "id": "dU6-HpHfGOeL"
      },
      "outputs": [],
      "source": [
        "# Create model\n",
        "def create_model():\n",
        "  model = Sequential()\n",
        "  model.add(Dense(20, input_dim = 6, kernel_initializer='uniform',activation='relu')) \n",
        "  model.add(Dense(25, kernel_initializer='uniform',activation='relu'))\n",
        "  model.add(Dense(1, kernel_initializer='uniform',activation='sigmoid'))\n",
        "\n",
        "  adam = adam_v2.Adam(lr = 0.01)\n",
        "\n",
        "  model.compile(loss = 'binary_crossentropy',\n",
        "                optimizer = adam,\n",
        "                metrics = ['accuracy'])\n",
        "  \n",
        "  return model"
      ]
    },
    {
      "cell_type": "code",
      "execution_count": null,
      "metadata": {
        "id": "4d8IQTo0GXgM"
      },
      "outputs": [],
      "source": [
        "# Create the model\n",
        "model = KerasClassifier(build_fn = create_model, verbose = 0)\n",
        "\n",
        "\n",
        "# Define the grid search parameter\n",
        "batch_size = [10,20,30]\n",
        "epochs = [30,40,50]\n",
        "\n",
        "#Make a dictionary of the grid search parameters\n",
        "param_grid = dict(batch_size = batch_size,\n",
        "                  epochs = epochs)\n",
        "\n",
        "# Build and fit the GridSearchCV\n",
        "grid = GridSearchCV(estimator = model,\n",
        "                    param_grid = param_grid,\n",
        "                    cv = KFold(),\n",
        "                    verbose = 10)\n",
        "\n",
        "grid_result = grid.fit(X_standardized, Y)"
      ]
    },
    {
      "cell_type": "code",
      "execution_count": null,
      "metadata": {
        "id": "a8KcnA25G3KT"
      },
      "outputs": [],
      "source": [
        " # Summarize the results\n",
        "print('Best : {}, using {}' .format(grid_result.best_score_,grid_result.best_params_))\n",
        "\n",
        "means = grid_result.cv_results_['mean_test_score']\n",
        "stds = grid_result.cv_results_['std_test_score']\n",
        "params = grid_result.cv_results_['params']\n",
        "\n",
        "for mean,stdev,param in zip(means, stds, params):\n",
        "  print('{},{} with: {}'.format(mean,stdev, param))"
      ]
    },
    {
      "cell_type": "markdown",
      "metadata": {
        "id": "0A-JwGT6dAik"
      },
      "source": [
        "# **Tuning of Hyperparameters:-Learning Rate and Drop out rate**"
      ]
    },
    {
      "cell_type": "code",
      "execution_count": null,
      "metadata": {
        "id": "IOxk1l3nGcWv"
      },
      "outputs": [],
      "source": [
        "from keras.layers import Dropout\n",
        "\n",
        "# Defining the model\n",
        "def create_model(learning_rate, dropout_rate):\n",
        "  model1 = Sequential()\n",
        "  model1.add(Dense(30, input_dim = 6, kernel_initializer='uniform',activation='relu'))\n",
        "  model1.add(Dropout(dropout_rate))\n",
        "  model1.add(Dense(25, input_dim = 6, kernel_initializer='uniform',activation='relu'))\n",
        "  model1.add(Dropout(dropout_rate))\n",
        "  model1.add(Dense(1,activation='sigmoid'))\n",
        "\n",
        "  adam = adam_v2.Adam(lr = learning_rate)\n",
        "\n",
        "  model1.compile(loss = 'binary_crossentropy',\n",
        "                optimizer = adam,\n",
        "                metrics = ['accuracy'])\n",
        "  return model1"
      ]
    },
    {
      "cell_type": "code",
      "execution_count": null,
      "metadata": {
        "id": "Ffp5ioLcdIVV"
      },
      "outputs": [],
      "source": [
        "# Create the model\n",
        "model1 = KerasClassifier(build_fn = create_model, \n",
        "                        verbose = 0,\n",
        "                        batch_size = 10,\n",
        "                        epochs = 30)\n",
        "\n",
        "\n",
        "# Define the grid search parameter\n",
        "learning_rate = [0.001,0.01,0.1]\n",
        "dropout_rate= [0.1,0.2,0.3]\n",
        "\n",
        "#Make a dictionary of the grid search parameters\n",
        "param_grid = dict(learning_rate = learning_rate,\n",
        "                  dropout_rate = dropout_rate)\n",
        "\n",
        "# Build and fit the GridSearchCV\n",
        "grid = GridSearchCV(estimator = model1,\n",
        "                    param_grid = param_grid,\n",
        "                    cv = KFold(),\n",
        "                    verbose = 10)\n",
        "\n",
        "grid_result = grid.fit(X_standardized, Y)"
      ]
    },
    {
      "cell_type": "code",
      "execution_count": null,
      "metadata": {
        "id": "vz-pjYySdM0L"
      },
      "outputs": [],
      "source": [
        "# Summarize the results\n",
        "print('Best : {}, using {}' .format(grid_result.best_score_,grid_result.best_params_))\n",
        "\n",
        "means = grid_result.cv_results_['mean_test_score']\n",
        "stds = grid_result.cv_results_['std_test_score']\n",
        "params = grid_result.cv_results_['params']\n",
        "\n",
        "for mean,stdev,param in zip(means, stds, params):\n",
        "  print('{},{} with: {}'.format(mean,stdev, param))"
      ]
    },
    {
      "cell_type": "markdown",
      "metadata": {
        "id": "lQgjrVEJeqUq"
      },
      "source": [
        "# **Tuning of Hyperparameters:- Activation Function and Kernel Initializer**"
      ]
    },
    {
      "cell_type": "code",
      "execution_count": null,
      "metadata": {
        "id": "fVHpGBQnemn5"
      },
      "outputs": [],
      "source": [
        "# Defining the model\n",
        "\n",
        "def create_model(activation_function,init):\n",
        "    model2 = Sequential()\n",
        "    model2.add(Dense(30,input_dim = 6,kernel_initializer = init,activation = activation_function))\n",
        "    model2.add(Dropout(0.1))\n",
        "    model2.add(Dense(25,input_dim = 6,kernel_initializer = init,activation = activation_function))\n",
        "    model2.add(Dropout(0.1))\n",
        "    model2.add(Dense(1,activation = 'sigmoid'))\n",
        "    \n",
        "    adam = adam_v2.Adam(lr = 0.001)\n",
        "    model2.compile(loss = 'binary_crossentropy',optimizer = adam,metrics = ['accuracy'])\n",
        "    return model2\n",
        "\n",
        "# Create the model\n",
        "\n",
        "model2 = KerasClassifier(build_fn = create_model,verbose = 0,batch_size = 10,epochs = 30)\n",
        "\n",
        "# Define the grid search parameters\n",
        "activation_function = ['softmax','relu','tanh','linear']\n",
        "init = ['uniform','normal','zero']\n",
        "\n",
        "# Make a dictionary of the grid search parameters\n",
        "param_grids = dict(activation_function = activation_function,init = init)\n",
        "\n",
        "# Build and fit the GridSearchCV\n",
        "\n",
        "grid = GridSearchCV(estimator = model2,param_grid = param_grids,cv = KFold(),verbose = 10)\n",
        "grid_result = grid.fit(X_standardized,Y)"
      ]
    },
    {
      "cell_type": "code",
      "execution_count": null,
      "metadata": {
        "id": "cm3eJNDve2CY"
      },
      "outputs": [],
      "source": [
        "# Summarize the results\n",
        "print('Best : {}, using {}'.format(grid_result.best_score_,grid_result.best_params_))\n",
        "means = grid_result.cv_results_['mean_test_score']\n",
        "stds = grid_result.cv_results_['std_test_score']\n",
        "params = grid_result.cv_results_['params']\n",
        "for mean, stdev, param in zip(means, stds, params):\n",
        "  print('{},{} with: {}'.format(mean, stdev, param))"
      ]
    },
    {
      "cell_type": "markdown",
      "metadata": {
        "id": "OlLaeehSDrPN"
      },
      "source": [
        "#**Tuning of Hyperparameter :-Number of Neurons in activation layer**"
      ]
    },
    {
      "cell_type": "code",
      "execution_count": null,
      "metadata": {
        "colab": {
          "background_save": true
        },
        "id": "Mex4WVDsDnul"
      },
      "outputs": [],
      "source": [
        "# Defining the model\n",
        "\n",
        "def create_model(neuron1,neuron2):\n",
        "    model3 = Sequential()\n",
        "    model3.add(Dense(neuron1,input_dim = 6,kernel_initializer = 'uniform',activation = 'linear'))\n",
        "    model3.add(Dropout(0.1))\n",
        "    model3.add(Dense(neuron2,input_dim = neuron1,kernel_initializer = 'uniform',activation = 'linear'))\n",
        "    model3.add(Dropout(0.1))\n",
        "    model3.add(Dense(1,activation = 'sigmoid'))\n",
        "    \n",
        "    adam = adam_v2.Adam(lr = 0.001)\n",
        "    model3.compile(loss = 'binary_crossentropy',optimizer = adam,metrics = ['accuracy'])\n",
        "    return model3\n",
        "\n",
        "# Create the model\n",
        "\n",
        "model3 = KerasClassifier(build_fn = create_model,verbose = 0,batch_size = 10,epochs = 30)\n",
        "\n",
        "# Define the grid search parameters\n",
        "\n",
        "neuron1 = [4,8,16]\n",
        "neuron2 = [2,4,8]\n",
        "\n",
        "# Make a dictionary of the grid search parameters\n",
        "\n",
        "param_grids = dict(neuron1 = neuron1,neuron2 = neuron2)\n",
        "\n",
        "# Build and fit the GridSearchCV\n",
        "\n",
        "grid = GridSearchCV(estimator = model3,param_grid = param_grids,cv = KFold(),verbose = 10)\n",
        "grid_result = grid.fit(X_standardized,Y)"
      ]
    },
    {
      "cell_type": "code",
      "execution_count": null,
      "metadata": {
        "colab": {
          "background_save": true
        },
        "id": "18qt87yMD7wZ"
      },
      "outputs": [],
      "source": [
        "# Summarize the results\n",
        "print('Best : {}, using {}'.format(grid_result.best_score_,grid_result.best_params_))\n",
        "means = grid_result.cv_results_['mean_test_score']\n",
        "stds = grid_result.cv_results_['std_test_score']\n",
        "params = grid_result.cv_results_['params']\n",
        "for mean, stdev, param in zip(means, stds, params):\n",
        "  print('{},{} with: {}'.format(mean, stdev, param))"
      ]
    },
    {
      "cell_type": "markdown",
      "source": [
        "# **Training model with optimum values of Hyperparameters**"
      ],
      "metadata": {
        "id": "A7g9BA5J_4tj"
      }
    },
    {
      "cell_type": "code",
      "source": [
        "from sklearn.metrics import classification_report, accuracy_score\n",
        "\n",
        "# Defining the model\n",
        "\n",
        "def create_model():\n",
        "    model4 = Sequential()\n",
        "    model4.add(Dense(4,input_dim = 6,kernel_initializer = 'uniform',activation = 'linear'))\n",
        "    model4.add(Dropout(0.1))\n",
        "    model4.add(Dense(2,input_dim = 4,kernel_initializer = 'uniform',activation = 'linear'))\n",
        "    model4.add(Dropout(0.1))\n",
        "    model4.add(Dense(1,activation = 'sigmoid'))\n",
        "    \n",
        "    adam = adam_v2.Adam(lr = 0.001) #sgd = SGD(lr=learning_rate, momentum=momentum, decay=decay_rate, nesterov=False)\n",
        "    model4.compile(loss = 'binary_crossentropy',optimizer = adam,metrics = ['accuracy'])\n",
        "    return model4\n",
        "\n",
        "# Create the model\n",
        "\n",
        "model4 = KerasClassifier(build_fn = create_model,verbose = 0,batch_size = 10,epochs = 30)\n",
        "\n",
        "# Fitting the model\n",
        "\n",
        "model4.fit(X_standardized,Y)\n",
        "\n",
        "# Predicting using trained model\n",
        "\n",
        "Y_predict = model4.predict(X_standardized)\n",
        "\n",
        "# Printing the metrics\n",
        "print(r2_score(Y,Y_predict))"
      ],
      "metadata": {
        "id": "sz7BHUhw_5Pi"
      },
      "execution_count": null,
      "outputs": []
    },
    {
      "cell_type": "markdown",
      "source": [
        "# **Building Neural Networks Model using Optimal Values**"
      ],
      "metadata": {
        "id": "kgn6NrY8AS6M"
      }
    },
    {
      "cell_type": "code",
      "source": [
        " # create ANN model\n",
        "model = Sequential()\n",
        "# Defining the first layer of the model\n",
        "model.add(Dense(units=4, input_dim=X_train.shape[1], kernel_initializer='uniform', activation='linear'))\n",
        "model.add(Dropout(0.1))        \n",
        "# Defining the Second layer of the model\n",
        "model.add(Dense(units=2, kernel_initializer='uniform', activation='linear'))\n",
        "model.add(Dropout(0.1))  \n",
        "# The output neuron is a single fully connected node \n",
        "# Since we will be predicting a single number\n",
        "model.add(Dense(1, kernel_initializer='normal', activation='sigmoid'))\n",
        "\n",
        "model.compile(optimizer='Adam',loss='binary_crossentropy', metrics=['accuracy'])\n",
        "\n",
        "# Training the model with best parameters\n",
        "history = model.fit(X_train, Y_train, validation_split=0.33, batch_size = 10, epochs = 30)"
      ],
      "metadata": {
        "id": "bqelBLTNAPEg"
      },
      "execution_count": null,
      "outputs": []
    },
    {
      "cell_type": "code",
      "source": [
        "# Evaluate the model\n",
        "scores = model.evaluate(X,Y)\n",
        "print(\"%s: %.2f%%\" % (model.metrics_names[1], scores[1]*100))"
      ],
      "metadata": {
        "id": "SYKr7t1fB2I7"
      },
      "execution_count": null,
      "outputs": []
    },
    {
      "cell_type": "code",
      "source": [
        "model.metrics_names"
      ],
      "metadata": {
        "id": "9YNMVNNnB34v"
      },
      "execution_count": null,
      "outputs": []
    },
    {
      "cell_type": "code",
      "source": [
        "scores"
      ],
      "metadata": {
        "id": "xJY35N7rB36_"
      },
      "execution_count": null,
      "outputs": []
    },
    {
      "cell_type": "code",
      "source": [
        "#visualize training history\n",
        "\n",
        "#list all data in history\n",
        "history.history.keys()"
      ],
      "metadata": {
        "id": "9seJy56oB3-B"
      },
      "execution_count": null,
      "outputs": []
    },
    {
      "cell_type": "code",
      "source": [
        "#Summarize history for accuracy\n",
        "import matplotlib.pyplot as plt\n",
        "plt.plot(history.history['accuracy'])\n",
        "plt.plot(history.history['val_accuracy'])\n",
        "plt.title('model accuracy')\n",
        "plt.ylabel('accuracy')\n",
        "plt.xlabel('epoch')\n",
        "plt.legend(['train','test'], loc='upper left')\n",
        "plt.show()"
      ],
      "metadata": {
        "id": "U-EmvaDWB8-l"
      },
      "execution_count": null,
      "outputs": []
    },
    {
      "cell_type": "code",
      "source": [
        "#Summarize history for loss\n",
        "import matplotlib.pyplot as plt\n",
        "plt.plot(history.history['loss'])\n",
        "plt.plot(history.history['val_loss'])\n",
        "plt.title('model loss')\n",
        "plt.ylabel('loss')\n",
        "plt.xlabel('epoch')\n",
        "plt.legend(['train','test'], loc='upper left')\n",
        "plt.show()"
      ],
      "metadata": {
        "id": "Z_CiV88GCAei"
      },
      "execution_count": null,
      "outputs": []
    }
  ],
  "metadata": {
    "colab": {
      "provenance": []
    },
    "kernelspec": {
      "display_name": "Python 3",
      "name": "python3"
    },
    "language_info": {
      "name": "python"
    }
  },
  "nbformat": 4,
  "nbformat_minor": 0
}